{
 "cells": [
  {
   "cell_type": "markdown",
   "id": "portable-investment",
   "metadata": {},
   "source": [
    "# Churn prediction\n",
    "\n",
    "The objective of this exercise is to build a model which can predict in advance, the merchants who are currently **active**  but are likely to **stop transacting** in the **near future**.The data we have available is that of around 1.5 million transactions across 2 years for 14,351 customers to train this model.\n",
    "\n",
    "## Identifying churn \n",
    "\n",
    "A merchant is said to have churned if he has stopped transacting over a given observation period. The length of this observation period is an assumption we have to make. There are two key consideration for chosing an appropriate lengh for the observation period -  \n",
    "\n",
    "1. The observation period should be long enough so that inactivity in the observation period can be inferred as the merchant having stopped using the service. If we choose a short period, say 1 week, it is possible that the merchants we identifiy as having churned, might not have had any transactions in a given week, but may have transactions at a later point in time. This would make our churn identification inaccurate.\n",
    "\n",
    "2. The length of the window should be short enough so that -\n",
    "\n",
    "    - We are able to identify churned merchants from the given dataset, which only has 2 years worth of data. If we choose a long window, say 18 months, we will not have enough data to identify the churn indicator for a majority of the customers and might not have enough data to train a model.\n",
    "    - The churn prediction from the model is actually actionable. This is much more of a subjective criterial determined by the actual use case of the model. We might care more about the customers not likely to transact withing the next 30 days, in which case, the model shouls be trained to predict ove a similar time frame.\n"
   ]
  },
  {
   "cell_type": "code",
   "execution_count": 1,
   "id": "referenced-disposition",
   "metadata": {
    "execution": {
     "iopub.execute_input": "2022-01-06T16:01:30.059949Z",
     "iopub.status.busy": "2022-01-06T16:01:30.058940Z",
     "iopub.status.idle": "2022-01-06T16:01:37.828788Z",
     "shell.execute_reply": "2022-01-06T16:01:37.828788Z",
     "shell.execute_reply.started": "2022-01-06T16:01:30.058940Z"
    },
    "tags": []
   },
   "outputs": [],
   "source": [
    "import pandas as pd\n",
    "import numpy as np\n",
    "import os\n",
    "import project_s.src.common_utils as utils\n",
    "import project_s.src as src\n",
    "import math\n",
    "from plotnine import *\n",
    "from datetime import timedelta\n",
    "import warnings\n",
    "warnings.filterwarnings('ignore')\n",
    "pd.DataFrame.removeUnivarOutliers = utils.remove_univariate_outliers"
   ]
  },
  {
   "cell_type": "code",
   "execution_count": 2,
   "id": "independent-millennium",
   "metadata": {
    "execution": {
     "iopub.execute_input": "2022-01-06T16:01:37.829635Z",
     "iopub.status.busy": "2022-01-06T16:01:37.829635Z",
     "iopub.status.idle": "2022-01-06T16:02:34.781741Z",
     "shell.execute_reply": "2022-01-06T16:02:34.780817Z",
     "shell.execute_reply.started": "2022-01-06T16:01:37.829635Z"
    },
    "tags": []
   },
   "outputs": [],
   "source": [
    "raw_data = (pd.read_csv(os.path.join(src.dir_path , \"data/raw/takehome_ds_written.csv\"),index_col=0,parse_dates = [\"time\"]).\n",
    "            assign(date = lambda x : pd.to_datetime(x[\"time\"].dt.strftime('%Y-%m-%d')),# add date\n",
    "                  amount_in_usd = lambda x :x.amount_usd_in_cents/100)) # amount in usd\n",
    "\n",
    "def add_next_transaction(df):\n",
    "    \"\"\"\n",
    "    add next transaction time for the same merchant to the raw data\n",
    "    \"\"\"\n",
    "    return (df\n",
    "             .sort_values(\"time\")\n",
    "             .assign( next_transaction_date = lambda x : x.date.shift(-1),\n",
    "                      days_to_next_transaction = lambda x : (x.next_transaction_date - x.date).dt.days )) # null if no transaction after\n",
    "\n",
    "\n",
    "tranformed_df= raw_data.groupby(\"merchant\",as_index=False).apply(add_next_transaction ) # add fields for next transaction date and days to next trnsaction"
   ]
  },
  {
   "cell_type": "code",
   "execution_count": 3,
   "id": "surgical-combine",
   "metadata": {
    "execution": {
     "iopub.execute_input": "2022-01-06T16:02:34.782739Z",
     "iopub.status.busy": "2022-01-06T16:02:34.781741Z",
     "iopub.status.idle": "2022-01-06T16:03:10.740684Z",
     "shell.execute_reply": "2022-01-06T16:03:10.740684Z",
     "shell.execute_reply.started": "2022-01-06T16:02:34.781741Z"
    },
    "tags": []
   },
   "outputs": [],
   "source": [
    "churn_window_candidates = list(np.linspace(0,360,int(360/30)+1))\n",
    "\n",
    "churn_data = []\n",
    "\n",
    "for this_window in churn_window_candidates:\n",
    "    churn_df = (tranformed_df.\n",
    "    loc[lambda x : x[\"time\"] < (x[\"time\"].max() -timedelta( days = max(churn_window_candidates)))].\n",
    "    groupby(\"merchant\").\n",
    "    apply(lambda x: x[\"days_to_next_transaction\"].fillna(np.inf).gt(this_window).any() ))\n",
    "    \n",
    "    \n",
    "    \n",
    "    churn_data.append({\"churn_window_len\" : this_window , \"churn_percent\" :churn_df.mean()  , \"n_merchants\" :churn_df.count() })\n",
    "\n",
    "churn_df = pd.DataFrame(churn_data).assign( decrease_percent = lambda x : ((x.churn_percent.shift(1) - x.churn_percent))*100 )\n",
    "\n"
   ]
  },
  {
   "cell_type": "markdown",
   "id": "inappropriate-arrest",
   "metadata": {},
   "source": [
    "## Chosing the right performance window "
   ]
  },
  {
   "cell_type": "code",
   "execution_count": 4,
   "id": "premium-growth",
   "metadata": {
    "execution": {
     "iopub.execute_input": "2022-01-06T16:03:21.296639Z",
     "iopub.status.busy": "2022-01-06T16:03:21.296639Z",
     "iopub.status.idle": "2022-01-06T16:03:21.314644Z",
     "shell.execute_reply": "2022-01-06T16:03:21.314644Z",
     "shell.execute_reply.started": "2022-01-06T16:03:21.296639Z"
    },
    "tags": []
   },
   "outputs": [
    {
     "data": {
      "text/html": [
       "<div>\n",
       "<style scoped>\n",
       "    .dataframe tbody tr th:only-of-type {\n",
       "        vertical-align: middle;\n",
       "    }\n",
       "\n",
       "    .dataframe tbody tr th {\n",
       "        vertical-align: top;\n",
       "    }\n",
       "\n",
       "    .dataframe thead th {\n",
       "        text-align: right;\n",
       "    }\n",
       "</style>\n",
       "<table border=\"1\" class=\"dataframe\">\n",
       "  <thead>\n",
       "    <tr style=\"text-align: right;\">\n",
       "      <th></th>\n",
       "      <th>churn_window_len</th>\n",
       "      <th>churn_percent</th>\n",
       "      <th>n_merchants</th>\n",
       "      <th>decrease_percent</th>\n",
       "    </tr>\n",
       "  </thead>\n",
       "  <tbody>\n",
       "    <tr>\n",
       "      <th>0</th>\n",
       "      <td>0.0</td>\n",
       "      <td>1.000000</td>\n",
       "      <td>6433</td>\n",
       "      <td>NaN</td>\n",
       "    </tr>\n",
       "    <tr>\n",
       "      <th>1</th>\n",
       "      <td>30.0</td>\n",
       "      <td>0.811130</td>\n",
       "      <td>6433</td>\n",
       "      <td>18.886989</td>\n",
       "    </tr>\n",
       "    <tr>\n",
       "      <th>2</th>\n",
       "      <td>60.0</td>\n",
       "      <td>0.679776</td>\n",
       "      <td>6433</td>\n",
       "      <td>13.135396</td>\n",
       "    </tr>\n",
       "    <tr>\n",
       "      <th>3</th>\n",
       "      <td>90.0</td>\n",
       "      <td>0.602363</td>\n",
       "      <td>6433</td>\n",
       "      <td>7.741334</td>\n",
       "    </tr>\n",
       "    <tr>\n",
       "      <th>4</th>\n",
       "      <td>120.0</td>\n",
       "      <td>0.547179</td>\n",
       "      <td>6433</td>\n",
       "      <td>5.518421</td>\n",
       "    </tr>\n",
       "    <tr>\n",
       "      <th>5</th>\n",
       "      <td>150.0</td>\n",
       "      <td>0.505518</td>\n",
       "      <td>6433</td>\n",
       "      <td>4.166019</td>\n",
       "    </tr>\n",
       "    <tr>\n",
       "      <th>6</th>\n",
       "      <td>180.0</td>\n",
       "      <td>0.468677</td>\n",
       "      <td>6433</td>\n",
       "      <td>3.684129</td>\n",
       "    </tr>\n",
       "    <tr>\n",
       "      <th>7</th>\n",
       "      <td>210.0</td>\n",
       "      <td>0.436966</td>\n",
       "      <td>6433</td>\n",
       "      <td>3.171149</td>\n",
       "    </tr>\n",
       "    <tr>\n",
       "      <th>8</th>\n",
       "      <td>240.0</td>\n",
       "      <td>0.414581</td>\n",
       "      <td>6433</td>\n",
       "      <td>2.238458</td>\n",
       "    </tr>\n",
       "    <tr>\n",
       "      <th>9</th>\n",
       "      <td>270.0</td>\n",
       "      <td>0.398414</td>\n",
       "      <td>6433</td>\n",
       "      <td>1.616664</td>\n",
       "    </tr>\n",
       "    <tr>\n",
       "      <th>10</th>\n",
       "      <td>300.0</td>\n",
       "      <td>0.381004</td>\n",
       "      <td>6433</td>\n",
       "      <td>1.741023</td>\n",
       "    </tr>\n",
       "    <tr>\n",
       "      <th>11</th>\n",
       "      <td>330.0</td>\n",
       "      <td>0.367480</td>\n",
       "      <td>6433</td>\n",
       "      <td>1.352402</td>\n",
       "    </tr>\n",
       "    <tr>\n",
       "      <th>12</th>\n",
       "      <td>360.0</td>\n",
       "      <td>0.350070</td>\n",
       "      <td>6433</td>\n",
       "      <td>1.741023</td>\n",
       "    </tr>\n",
       "  </tbody>\n",
       "</table>\n",
       "</div>"
      ],
      "text/plain": [
       "    churn_window_len  churn_percent  n_merchants  decrease_percent\n",
       "0                0.0       1.000000         6433               NaN\n",
       "1               30.0       0.811130         6433         18.886989\n",
       "2               60.0       0.679776         6433         13.135396\n",
       "3               90.0       0.602363         6433          7.741334\n",
       "4              120.0       0.547179         6433          5.518421\n",
       "5              150.0       0.505518         6433          4.166019\n",
       "6              180.0       0.468677         6433          3.684129\n",
       "7              210.0       0.436966         6433          3.171149\n",
       "8              240.0       0.414581         6433          2.238458\n",
       "9              270.0       0.398414         6433          1.616664\n",
       "10             300.0       0.381004         6433          1.741023\n",
       "11             330.0       0.367480         6433          1.352402\n",
       "12             360.0       0.350070         6433          1.741023"
      ]
     },
     "execution_count": 4,
     "metadata": {},
     "output_type": "execute_result"
    }
   ],
   "source": [
    "churn_df"
   ]
  },
  {
   "cell_type": "code",
   "execution_count": 5,
   "id": "cardiac-eleven",
   "metadata": {
    "execution": {
     "iopub.execute_input": "2022-01-06T16:03:23.440461Z",
     "iopub.status.busy": "2022-01-06T16:03:23.439460Z",
     "iopub.status.idle": "2022-01-06T16:03:23.705461Z",
     "shell.execute_reply": "2022-01-06T16:03:23.705461Z",
     "shell.execute_reply.started": "2022-01-06T16:03:23.440461Z"
    },
    "tags": []
   },
   "outputs": [
    {
     "data": {
      "image/png": "[encoded data removed]",
      "text/plain": [
       "<Figure size 640x480 with 1 Axes>"
      ]
     },
     "metadata": {},
     "output_type": "display_data"
    },
    {
     "data": {
      "text/plain": [
       "<ggplot: (-9223371958434406004)>"
      ]
     },
     "execution_count": 5,
     "metadata": {},
     "output_type": "execute_result"
    }
   ],
   "source": [
    "ggplot(churn_df, aes(x = \"churn_window_len\" , y = \"decrease_percent\")) + geom_line()  + scale_y_continuous(labels=lambda l: [\"%d%%\" % (v) for v in l])"
   ]
  },
  {
   "cell_type": "markdown",
   "id": "heavy-inflation",
   "metadata": {},
   "source": [
    "Above we can see churn rates of the same cohort of active merchants(all active merchants in 2033) when we vary the size of the observation period.\n",
    "As we increase the churn window from 0 to 360, the churn rate starts to stablize around 240 days, where most merchants who have churned in a 360 day observation period have already churned within a 240 day window and the incremental benefit of increasing the observation period is marginal. This indicates that a 240 day window for identification of churn will work reasonably well for training our model."
   ]
  },
  {
   "cell_type": "markdown",
   "id": "legendary-assembly",
   "metadata": {},
   "source": [
    "## Merchants already churned \n",
    "\n",
    "Now that we have fixed our definition of churn to be the absence of any transaction for 240 days, we can identfiy merchatns that have already churned at least once in the dataset.\n"
   ]
  },
  {
   "cell_type": "code",
   "execution_count": 6,
   "id": "addressed-credits",
   "metadata": {
    "execution": {
     "iopub.execute_input": "2022-01-06T16:03:26.734753Z",
     "iopub.status.busy": "2022-01-06T16:03:26.734753Z",
     "iopub.status.idle": "2022-01-06T16:03:26.851536Z",
     "shell.execute_reply": "2022-01-06T16:03:26.851536Z",
     "shell.execute_reply.started": "2022-01-06T16:03:26.734753Z"
    },
    "tags": []
   },
   "outputs": [],
   "source": [
    "churned_merchants = list((tranformed_df\n",
    "     .loc[lambda x : x[\"date\"] < (x[\"date\"].max() -timedelta( days = 240))] # filter all activity for the last 240 days\n",
    "     .assign(days_to_next_transaction = lambda x : x.days_to_next_transaction.fillna(np.inf))\n",
    "     .loc[lambda x : x.days_to_next_transaction.gt(240)])[\"merchant\"].unique())\n",
    "pd.DataFrame(churned_merchants).to_csv(os.path.join(src.dir_path , \"data/processed/churned_merchants.csv\"))"
   ]
  },
  {
   "cell_type": "markdown",
   "id": "egyptian-response",
   "metadata": {},
   "source": [
    "4017 out of the 14351 merchants have churned at one point during thse 2 years."
   ]
  },
  {
   "cell_type": "markdown",
   "id": "cloudy-cleaning",
   "metadata": {},
   "source": [
    "## Sampling \n",
    "\n",
    "To generate the training data, I have chosen to sample merchant activity every 30 days. At each sampling date, if the merchant has not churned as of that date, I compute features over the past 240 days, the training period, to capture the merchant activity.The target variable would indicate wheather of not the customer had any transactions over the performance window, which we have chosen to be from the sampling date to 240 days after the sampling date.\n",
    "I did not choose a higher sampling frequnecy because oversampling can result in a huge number of samples that can take a lot of time to compute and would not have a lot of additional information given that the merchants seem to be operating at about a 1 transaction per week median frequency.\n",
    "Additionally, the choice to keep the training period also 240 days is arbitrary. Ideally this would be a parameter we would tune depending on model performance and data availability."
   ]
  },
  {
   "cell_type": "code",
   "execution_count": 7,
   "id": "placed-lease",
   "metadata": {
    "execution": {
     "iopub.execute_input": "2022-01-06T16:03:29.270592Z",
     "iopub.status.busy": "2022-01-06T16:03:29.270592Z",
     "iopub.status.idle": "2022-01-06T16:03:29.296588Z",
     "shell.execute_reply": "2022-01-06T16:03:29.296588Z",
     "shell.execute_reply.started": "2022-01-06T16:03:29.270592Z"
    },
    "tags": []
   },
   "outputs": [],
   "source": [
    "training_period = 240\n",
    "performance_window = 240\n",
    "date_samples = pd.date_range(raw_data[\"date\"].min() + timedelta(days =training_period ) , raw_data[\"date\"].max() - timedelta(days =performance_window ) , freq = '30D')"
   ]
  },
  {
   "cell_type": "markdown",
   "id": "funky-hampton",
   "metadata": {},
   "source": [
    "## Features\n",
    "\n",
    "To capture merchant activity over the training window, I compute the following features. Each of them capture one of 3 attributes - \n",
    "\n",
    "1. Average activity during the training window\n",
    "2. Recent activity \n",
    "3. Recent activity normalised by average activity in the performance window"
   ]
  },
  {
   "cell_type": "code",
   "execution_count": 1,
   "id": "ranging-bennett",
   "metadata": {
    "execution": {
     "iopub.execute_input": "2022-04-20T13:29:15.320036Z",
     "iopub.status.busy": "2022-04-20T13:29:15.319003Z",
     "iopub.status.idle": "2022-04-20T13:29:15.334002Z",
     "shell.execute_reply": "2022-04-20T13:29:15.334002Z",
     "shell.execute_reply.started": "2022-04-20T13:29:15.320036Z"
    },
    "tags": []
   },
   "outputs": [
    {
     "data": {
      "text/plain": [
       "{'total_amount_usd': 'Total amount transacted over the training window',\n",
       " 'count_txns': 'Number of transactions over the training window',\n",
       " 'avg_txn_amount': 'Average transaction amount over the training window',\n",
       " 'count_txns_l30d': 'Number of transactions in the last 30 days',\n",
       " 'count_txns_l60d': 'Number of transactions in the last 60 days',\n",
       " 'count_txns_l90d': 'Number of transactions in the last 90 days',\n",
       " 'count_txns_l30d_ratio': 'Number of transactions in the last 30 days divided by total transactions over the training window',\n",
       " 'count_txns_l60d_ratio': 'Number of transactions in the last 60 days divided by total transactions over the training window',\n",
       " 'count_txns_l90d_ratio': 'Number of transactions in the last 90 days divided by total transactions over the training window'}"
      ]
     },
     "execution_count": 1,
     "metadata": {},
     "output_type": "execute_result"
    }
   ],
   "source": [
    "feature_dict =  { \"total_amount_usd\" : \"Total amount transacted over the training window\" , \n",
    "            \"count_txns\" :  \"Number of transactions over the training window\" ,\n",
    "            \"avg_txn_amount\" : \"Average transaction amount over the training window\",\n",
    "            \"count_txns_l30d\" : \"Number of transactions in the last 30 days\",\n",
    "            \"count_txns_l60d\" :\"Number of transactions in the last 60 days\" ,\n",
    "            \"count_txns_l90d\" : \"Number of transactions in the last 90 days\",\n",
    "            \"count_txns_l30d_ratio\" : \"Number of transactions in the last 30 days divided by total transactions over the training window\" , \n",
    "            \"count_txns_l60d_ratio\" :\"Number of transactions in the last 60 days divided by total transactions over the training window\",\n",
    "            \"count_txns_l90d_ratio\" :\"Number of transactions in the last 90 days divided by total transactions over the training window\"}\n",
    "\n",
    "feature_dict"
   ]
  },
  {
   "cell_type": "code",
   "execution_count": 9,
   "id": "engaging-arkansas",
   "metadata": {
    "execution": {
     "iopub.execute_input": "2022-01-06T16:03:32.677749Z",
     "iopub.status.busy": "2022-01-06T16:03:32.677749Z",
     "iopub.status.idle": "2022-01-06T16:03:32.684731Z",
     "shell.execute_reply": "2022-01-06T16:03:32.684731Z",
     "shell.execute_reply.started": "2022-01-06T16:03:32.677749Z"
    },
    "tags": []
   },
   "outputs": [],
   "source": [
    "def create_features_target(grouped_df):\n",
    "    training_window = grouped_df[grouped_df.offset_date <=0]\n",
    "    \n",
    "    if training_window.shape[0]==0: # no activity in traning window, customer already churned\n",
    "        return None\n",
    "    performance_window = grouped_df[grouped_df.offset_date >0]\n",
    "    features = {}\n",
    "    features = { \"total_amount_usd\" : training_window[\"amount_in_usd\"].sum(), # total amount of transactions\n",
    "                 \"count_txns\" : training_window[\"amount_in_usd\"].count() , # total number of transactions\n",
    "                 \"avg_txn_amount\" : training_window[\"amount_in_usd\"].mean(), # average transaction size\n",
    "                 \"count_txns_l30d\" : training_window.loc[(training_window[\"offset_date\"]>=-30) ,\"amount_in_usd\"].count(),\n",
    "                 \"count_txns_l60d\" : training_window.loc[(training_window[\"offset_date\"]>=-60) ,\"amount_in_usd\"].count(),\n",
    "                 \"count_txns_l90d\" : training_window.loc[(training_window[\"offset_date\"]>=-90) ,\"amount_in_usd\"].count(),\n",
    "                 \"count_txns_l30d_ratio\" : training_window.loc[(training_window[\"offset_date\"]>=-30) ,\"amount_in_usd\"].count()/training_window[\"amount_in_usd\"].count(),\n",
    "                 \"count_txns_l60d_ratio\" : training_window.loc[(training_window[\"offset_date\"]>=-60) ,\"amount_in_usd\"].count()/training_window[\"amount_in_usd\"].count(),\n",
    "                 \"count_txns_l90d_ratio\" : training_window.loc[(training_window[\"offset_date\"]>=-90) ,\"amount_in_usd\"].count()/training_window[\"amount_in_usd\"].count()}\n",
    "    \n",
    "    churn_indicator = 1 if performance_window.shape[0]==0 else 0 # churned if merchant did not transact within performance window\n",
    "    features.update({\"churn_indicator\":churn_indicator})\n",
    "    training_row = pd.DataFrame( features, index= [0] )\n",
    "    return training_row\n",
    "    "
   ]
  },
  {
   "cell_type": "code",
   "execution_count": 10,
   "id": "identical-pressure",
   "metadata": {
    "execution": {
     "iopub.execute_input": "2022-01-06T16:03:34.668620Z",
     "iopub.status.busy": "2022-01-06T16:03:34.667654Z",
     "iopub.status.idle": "2022-01-06T16:03:57.056838Z",
     "shell.execute_reply": "2022-01-06T16:03:57.056838Z",
     "shell.execute_reply.started": "2022-01-06T16:03:34.667654Z"
    },
    "tags": []
   },
   "outputs": [],
   "source": [
    "training_df = pd.DataFrame()\n",
    "for date_sample in date_samples:\n",
    "    training_df = pd.concat([training_df ,\n",
    "                            (tranformed_df.assign(sample_date =date_sample ,\n",
    "                                                        offset_date = lambda x :(x.date - x.sample_date).dt.days)) ],axis = 0)\n",
    "    \n",
    "    "
   ]
  },
  {
   "cell_type": "code",
   "execution_count": 11,
   "id": "outer-lemon",
   "metadata": {
    "execution": {
     "iopub.execute_input": "2022-01-06T16:05:31.783887Z",
     "iopub.status.busy": "2022-01-06T16:05:31.782855Z",
     "iopub.status.idle": "2022-01-06T16:13:37.842206Z",
     "shell.execute_reply": "2022-01-06T16:13:37.841206Z",
     "shell.execute_reply.started": "2022-01-06T16:05:31.783887Z"
    },
    "tags": []
   },
   "outputs": [],
   "source": [
    "training_data = (training_df\n",
    "    .loc[lambda x : (x.offset_date >-training_period) & (x.offset_date <=performance_window)]\n",
    "    .groupby([\"merchant\",\"sample_date\"])\n",
    "    .apply(create_features_target)).reset_index().drop([\"level_2\"],axis = 1)\n"
   ]
  },
  {
   "cell_type": "markdown",
   "id": "important-career",
   "metadata": {
    "execution": {
     "iopub.execute_input": "2021-12-21T03:06:26.558180Z",
     "iopub.status.busy": "2021-12-21T03:06:26.557174Z",
     "iopub.status.idle": "2021-12-21T03:06:26.586153Z",
     "shell.execute_reply": "2021-12-21T03:06:26.585151Z",
     "shell.execute_reply.started": "2021-12-21T03:06:26.558180Z"
    },
    "tags": []
   },
   "source": [
    "## Model Training"
   ]
  },
  {
   "cell_type": "code",
   "execution_count": 12,
   "id": "nonprofit-appeal",
   "metadata": {
    "execution": {
     "iopub.execute_input": "2022-01-06T16:14:19.195303Z",
     "iopub.status.busy": "2022-01-06T16:14:19.195303Z",
     "iopub.status.idle": "2022-01-06T16:15:24.008911Z",
     "shell.execute_reply": "2022-01-06T16:15:24.008911Z",
     "shell.execute_reply.started": "2022-01-06T16:14:19.195303Z"
    },
    "tags": []
   },
   "outputs": [
    {
     "data": {
      "text/html": [
       "<div>\n",
       "<style scoped>\n",
       "    .dataframe tbody tr th:only-of-type {\n",
       "        vertical-align: middle;\n",
       "    }\n",
       "\n",
       "    .dataframe tbody tr th {\n",
       "        vertical-align: top;\n",
       "    }\n",
       "\n",
       "    .dataframe thead th {\n",
       "        text-align: right;\n",
       "    }\n",
       "</style>\n",
       "<table border=\"1\" class=\"dataframe\">\n",
       "  <thead>\n",
       "    <tr style=\"text-align: right;\">\n",
       "      <th></th>\n",
       "      <th>sample size</th>\n",
       "      <th>bad rate</th>\n",
       "      <th>iv</th>\n",
       "      <th>ks</th>\n",
       "      <th>missing</th>\n",
       "      <th>feature</th>\n",
       "    </tr>\n",
       "  </thead>\n",
       "  <tbody>\n",
       "    <tr>\n",
       "      <th>0</th>\n",
       "      <td>51764</td>\n",
       "      <td>0.3032</td>\n",
       "      <td>0.2557</td>\n",
       "      <td>21.13</td>\n",
       "      <td>0.0</td>\n",
       "      <td>total_amount_usd</td>\n",
       "    </tr>\n",
       "    <tr>\n",
       "      <th>1</th>\n",
       "      <td>51764</td>\n",
       "      <td>0.3032</td>\n",
       "      <td>0.2735</td>\n",
       "      <td>21.04</td>\n",
       "      <td>0.0</td>\n",
       "      <td>count_txns</td>\n",
       "    </tr>\n",
       "    <tr>\n",
       "      <th>2</th>\n",
       "      <td>51764</td>\n",
       "      <td>0.3032</td>\n",
       "      <td>0.0054</td>\n",
       "      <td>3.25</td>\n",
       "      <td>0.0</td>\n",
       "      <td>avg_txn_amount</td>\n",
       "    </tr>\n",
       "    <tr>\n",
       "      <th>3</th>\n",
       "      <td>51764</td>\n",
       "      <td>0.3032</td>\n",
       "      <td>1.3531</td>\n",
       "      <td>51.26</td>\n",
       "      <td>0.0</td>\n",
       "      <td>count_txns_l30d</td>\n",
       "    </tr>\n",
       "    <tr>\n",
       "      <th>4</th>\n",
       "      <td>51764</td>\n",
       "      <td>0.3032</td>\n",
       "      <td>1.2477</td>\n",
       "      <td>48.32</td>\n",
       "      <td>0.0</td>\n",
       "      <td>count_txns_l60d</td>\n",
       "    </tr>\n",
       "    <tr>\n",
       "      <th>5</th>\n",
       "      <td>51764</td>\n",
       "      <td>0.3032</td>\n",
       "      <td>1.0598</td>\n",
       "      <td>42.23</td>\n",
       "      <td>0.0</td>\n",
       "      <td>count_txns_l90d</td>\n",
       "    </tr>\n",
       "    <tr>\n",
       "      <th>6</th>\n",
       "      <td>51764</td>\n",
       "      <td>0.3032</td>\n",
       "      <td>1.0685</td>\n",
       "      <td>48.07</td>\n",
       "      <td>0.0</td>\n",
       "      <td>count_txns_l30d_ratio</td>\n",
       "    </tr>\n",
       "    <tr>\n",
       "      <th>7</th>\n",
       "      <td>51764</td>\n",
       "      <td>0.3032</td>\n",
       "      <td>0.4920</td>\n",
       "      <td>33.98</td>\n",
       "      <td>0.0</td>\n",
       "      <td>count_txns_l60d_ratio</td>\n",
       "    </tr>\n",
       "    <tr>\n",
       "      <th>8</th>\n",
       "      <td>51764</td>\n",
       "      <td>0.3032</td>\n",
       "      <td>0.2410</td>\n",
       "      <td>24.16</td>\n",
       "      <td>0.0</td>\n",
       "      <td>count_txns_l90d_ratio</td>\n",
       "    </tr>\n",
       "  </tbody>\n",
       "</table>\n",
       "</div>"
      ],
      "text/plain": [
       "   sample size  bad rate      iv     ks  missing                feature\n",
       "0        51764    0.3032  0.2557  21.13      0.0       total_amount_usd\n",
       "1        51764    0.3032  0.2735  21.04      0.0             count_txns\n",
       "2        51764    0.3032  0.0054   3.25      0.0         avg_txn_amount\n",
       "3        51764    0.3032  1.3531  51.26      0.0        count_txns_l30d\n",
       "4        51764    0.3032  1.2477  48.32      0.0        count_txns_l60d\n",
       "5        51764    0.3032  1.0598  42.23      0.0        count_txns_l90d\n",
       "6        51764    0.3032  1.0685  48.07      0.0  count_txns_l30d_ratio\n",
       "7        51764    0.3032  0.4920  33.98      0.0  count_txns_l60d_ratio\n",
       "8        51764    0.3032  0.2410  24.16      0.0  count_txns_l90d_ratio"
      ]
     },
     "execution_count": 12,
     "metadata": {},
     "output_type": "execute_result"
    }
   ],
   "source": [
    "import py_mob\n",
    "features = [ \"total_amount_usd\" , \n",
    "            \"count_txns\" ,\n",
    "            \"avg_txn_amount\",\n",
    "            \"count_txns_l30d\",\n",
    "            \"count_txns_l60d\",\n",
    "            \"count_txns_l90d\",\n",
    "            \"count_txns_l30d_ratio\", \n",
    "            \"count_txns_l60d_ratio\" ,\n",
    "            \"count_txns_l90d_ratio\" ]\n",
    "\n",
    "target = \"churn_indicator\"\n",
    "feature_summary = []\n",
    "for feat in features : \n",
    "    feat_binned = py_mob.qtl_bin(training_data[feat], training_data[target] )\n",
    "    summ_bin = py_mob.summ_bin(feat_binned )\n",
    "    summ_bin.update({\"feature\" : feat})\n",
    "    feature_summary.append(summ_bin)\n",
    "    \n",
    "pd.DataFrame(feature_summary)"
   ]
  },
  {
   "cell_type": "code",
   "execution_count": 22,
   "id": "creative-strap",
   "metadata": {
    "execution": {
     "iopub.execute_input": "2022-01-06T16:25:55.650408Z",
     "iopub.status.busy": "2022-01-06T16:25:55.650408Z",
     "iopub.status.idle": "2022-01-06T16:26:02.284535Z",
     "shell.execute_reply": "2022-01-06T16:26:02.284535Z",
     "shell.execute_reply.started": "2022-01-06T16:25:55.650408Z"
    },
    "tags": []
   },
   "outputs": [],
   "source": [
    "feat = \"count_txns_l30d_ratio\"\n",
    "feat_binned = py_mob.qtl_bin(training_data[feat], training_data[target] )"
   ]
  },
  {
   "cell_type": "code",
   "execution_count": 23,
   "id": "polyphonic-shame",
   "metadata": {
    "execution": {
     "iopub.execute_input": "2022-01-06T16:27:45.802792Z",
     "iopub.status.busy": "2022-01-06T16:27:45.802792Z",
     "iopub.status.idle": "2022-01-06T16:27:45.820794Z",
     "shell.execute_reply": "2022-01-06T16:27:45.820794Z",
     "shell.execute_reply.started": "2022-01-06T16:27:45.802792Z"
    },
    "tags": []
   },
   "outputs": [],
   "source": [
    "pd.DataFrame(feat_binned['tbl']).to_clipboard()"
   ]
  },
  {
   "cell_type": "code",
   "execution_count": 25,
   "id": "professional-spectrum",
   "metadata": {
    "execution": {
     "iopub.execute_input": "2022-01-06T16:29:28.270462Z",
     "iopub.status.busy": "2022-01-06T16:29:28.270462Z",
     "iopub.status.idle": "2022-01-06T16:29:28.283464Z",
     "shell.execute_reply": "2022-01-06T16:29:28.282464Z",
     "shell.execute_reply.started": "2022-01-06T16:29:28.270462Z"
    },
    "tags": []
   },
   "outputs": [
    {
     "data": {
      "text/plain": [
       "count    51764.000000\n",
       "mean         0.235151\n",
       "std          0.332740\n",
       "min          0.000000\n",
       "0%           0.000000\n",
       "10%          0.000000\n",
       "20%          0.000000\n",
       "30%          0.000000\n",
       "40%          0.000000\n",
       "50%          0.064516\n",
       "60%          0.159091\n",
       "70%          0.250523\n",
       "80%          0.489177\n",
       "90%          1.000000\n",
       "100%         1.000000\n",
       "max          1.000000\n",
       "Name: count_txns_l30d_ratio, dtype: float64"
      ]
     },
     "execution_count": 25,
     "metadata": {},
     "output_type": "execute_result"
    }
   ],
   "source": [
    "training_data[feat].describe(np.linspace(0,1,11))"
   ]
  },
  {
   "cell_type": "markdown",
   "id": "inclusive-tiffany",
   "metadata": {},
   "source": [
    "Above is information value for all our features over the training set, which indicates the strength of a feature's relationship with churn.\n",
    "The churn rate for the sampled training set is around 30% on a traning set size of 51,764 after sampling.\n",
    "Looking at the information value, almost all features except for average transaction amount seem to be well correlated with churn. Clealy, transaction activity has a lot correlation future churn. Also ,the more recent transaction activity is more powerfully correlated with future churn. \n",
    "We go ahead with training an xgboost model on this traning set with these features. "
   ]
  },
  {
   "cell_type": "code",
   "execution_count": 26,
   "id": "computational-vertical",
   "metadata": {
    "execution": {
     "iopub.execute_input": "2022-01-06T16:33:42.318250Z",
     "iopub.status.busy": "2022-01-06T16:33:42.318250Z",
     "iopub.status.idle": "2022-01-06T16:39:57.222145Z",
     "shell.execute_reply": "2022-01-06T16:39:57.221145Z",
     "shell.execute_reply.started": "2022-01-06T16:33:42.318250Z"
    },
    "tags": []
   },
   "outputs": [
    {
     "name": "stdout",
     "output_type": "stream",
     "text": [
      "Fitting 3 folds for each of 108 candidates, totalling 324 fits\n"
     ]
    },
    {
     "data": {
      "text/plain": [
       "GridSearchCV(cv=<generator object _BaseKFold.split at 0x000001242D6C5648>,\n",
       "             estimator=XGBClassifier(base_score=None, booster=None,\n",
       "                                     colsample_bylevel=None,\n",
       "                                     colsample_bynode=None,\n",
       "                                     colsample_bytree=None, gamma=None,\n",
       "                                     gpu_id=None, importance_type='gain',\n",
       "                                     interaction_constraints=None,\n",
       "                                     learning_rate=None, max_delta_step=None,\n",
       "                                     max_depth=None, min_child_weight=None,\n",
       "                                     missing=n...\n",
       "                                     n_estimators=100, n_jobs=None, nthread=18,\n",
       "                                     num_parallel_tree=None, random_state=None,\n",
       "                                     reg_alpha=None, reg_lambda=None,\n",
       "                                     scale_pos_weight=None, silent=True,\n",
       "                                     subsample=None, tree_method=None,\n",
       "                                     validate_parameters=False,\n",
       "                                     verbosity=None),\n",
       "             n_jobs=4,\n",
       "             param_grid={'learning_rate': [0.001, 0.01, 0.1],\n",
       "                         'max_depth': [3, 4, 5], 'min_child_weight': [1, 5, 10],\n",
       "                         'n_estimators': [50, 100, 150, 200]},\n",
       "             scoring='roc_auc', verbose=3)"
      ]
     },
     "execution_count": 26,
     "metadata": {},
     "output_type": "execute_result"
    }
   ],
   "source": [
    "from sklearn.model_selection import RandomizedSearchCV, GridSearchCV,train_test_split\n",
    "from sklearn.metrics import roc_auc_score\n",
    "from sklearn.model_selection import StratifiedKFold\n",
    "from xgboost import XGBClassifier\n",
    "\n",
    "# A parameter grid for XGBoost\n",
    "params = {\n",
    "        'min_child_weight': [1, 5, 10],\n",
    "        'max_depth': [3, 4, 5],\n",
    "        'learning_rate' : [0.001, 0.01,0.1],\n",
    "        'n_estimators' : [50,100,150,200]\n",
    "        }\n",
    "\n",
    "xgb = XGBClassifier(objective='binary:logistic',silent=True, nthread=18)\n",
    "\n",
    "folds = 3\n",
    "\n",
    "skf = StratifiedKFold(n_splits=folds, shuffle = True, random_state = 1001)\n",
    "\n",
    "X_train, X_test, y_train, y_test = train_test_split(training_data[features], training_data[target], test_size=0.33, random_state=42)\n",
    "\n",
    "grid_search = GridSearchCV(xgb, param_grid=params, scoring='roc_auc', n_jobs=4, cv=skf.split(X_train,y_train), verbose=3 )\n",
    "\n",
    "# Here we go\n",
    "grid_search.fit(X_train, y_train)\n"
   ]
  },
  {
   "cell_type": "code",
   "execution_count": 59,
   "id": "corporate-favor",
   "metadata": {
    "execution": {
     "iopub.execute_input": "2021-12-21T13:45:01.004230Z",
     "iopub.status.busy": "2021-12-21T13:45:01.004230Z",
     "iopub.status.idle": "2021-12-21T13:45:01.014233Z",
     "shell.execute_reply": "2021-12-21T13:45:01.014233Z",
     "shell.execute_reply.started": "2021-12-21T13:45:01.004230Z"
    },
    "tags": []
   },
   "outputs": [],
   "source": [
    "def ks(data=None, target=None, prob=None, asc=False):\n",
    "    data['target0'] = 1 - data[target]\n",
    "    data['bucket'] = pd.qcut(data[prob], 10, duplicates='raise')\n",
    "    grouped = data.groupby('bucket', as_index=False)\n",
    "    kstable = pd.DataFrame()\n",
    "    kstable['min_prob'] = grouped.min()[prob]\n",
    "    kstable['max_prob'] = grouped.max()[prob]\n",
    "    kstable['events'] = grouped.sum()[target]\n",
    "    kstable['nonevents'] = grouped.sum()['target0']\n",
    "    kstable['total'] = grouped.count()['target0']\n",
    "    kstable['bucket_event_rate'] =kstable.events/kstable.total\n",
    "    kstable = kstable.sort_values(by=\"min_prob\", ascending=asc).reset_index(drop=True)\n",
    "    kstable['event_rate'] = (kstable.events / data[target].sum()).apply('{0:.2%}'.format)\n",
    "    kstable['nonevent_rate'] = (kstable.nonevents / data['target0'].sum()).apply('{0:.2%}'.format)\n",
    "    kstable['cum_eventrate'] = (kstable.events / data[target].sum()).cumsum()\n",
    "    kstable['cum_noneventrate'] = (kstable.nonevents / data['target0'].sum()).cumsum()\n",
    "    kstable['KS'] = np.round(kstable['cum_eventrate'] - kstable['cum_noneventrate'], 3) * 100\n",
    "\n",
    "    # Formating\n",
    "    kstable['cum_eventrate'] = kstable['cum_eventrate'].apply('{0:.2%}'.format)\n",
    "    kstable['cum_noneventrate'] = kstable['cum_noneventrate'].apply('{0:.2%}'.format)\n",
    "    # kstable.index = range(1, len(kstable)+1)\n",
    "    kstable.index = range(1, 11)\n",
    "    kstable.index.rename('Decile', inplace=True)\n",
    "    return kstable"
   ]
  },
  {
   "cell_type": "markdown",
   "id": "contained-firewall",
   "metadata": {},
   "source": [
    "### Model evaluation"
   ]
  },
  {
   "cell_type": "code",
   "execution_count": 76,
   "id": "connected-olympus",
   "metadata": {
    "execution": {
     "iopub.execute_input": "2021-12-21T14:48:47.439748Z",
     "iopub.status.busy": "2021-12-21T14:48:47.438750Z",
     "iopub.status.idle": "2021-12-21T14:48:51.371334Z",
     "shell.execute_reply": "2021-12-21T14:48:51.370333Z",
     "shell.execute_reply.started": "2021-12-21T14:48:47.439748Z"
    },
    "tags": []
   },
   "outputs": [
    {
     "name": "stdout",
     "output_type": "stream",
     "text": [
      "Model results. Train AUC : 0.8787946226704462. Test AUC : 0.851806268393682\n"
     ]
    }
   ],
   "source": [
    "from sklearn.metrics import roc_auc_score\n",
    "\n",
    "classifier = grid_search.best_estimator_\n",
    "classifier.fit(X_train,y_train)\n",
    "y_train_probs = classifier.predict_proba(X_train)[:, 1]\n",
    "y_test_probs = classifier.predict_proba(X_test)[:, 1]\n",
    "train_auc = roc_auc_score(y_train, y_train_probs)\n",
    "test_auc = roc_auc_score(y_test, y_test_probs)\n",
    "print(f\"Model results. Train AUC : {train_auc}. Test AUC : {test_auc}\")"
   ]
  },
  {
   "cell_type": "markdown",
   "id": "respective-budapest",
   "metadata": {},
   "source": [
    "#### KS table"
   ]
  },
  {
   "cell_type": "code",
   "execution_count": 61,
   "id": "sized-record",
   "metadata": {
    "execution": {
     "iopub.execute_input": "2021-12-21T13:47:23.032131Z",
     "iopub.status.busy": "2021-12-21T13:47:23.032131Z",
     "iopub.status.idle": "2021-12-21T13:47:23.075134Z",
     "shell.execute_reply": "2021-12-21T13:47:23.074131Z",
     "shell.execute_reply.started": "2021-12-21T13:47:23.032131Z"
    },
    "tags": []
   },
   "outputs": [
    {
     "data": {
      "text/html": [
       "<div>\n",
       "<style scoped>\n",
       "    .dataframe tbody tr th:only-of-type {\n",
       "        vertical-align: middle;\n",
       "    }\n",
       "\n",
       "    .dataframe tbody tr th {\n",
       "        vertical-align: top;\n",
       "    }\n",
       "\n",
       "    .dataframe thead th {\n",
       "        text-align: right;\n",
       "    }\n",
       "</style>\n",
       "<table border=\"1\" class=\"dataframe\">\n",
       "  <thead>\n",
       "    <tr style=\"text-align: right;\">\n",
       "      <th></th>\n",
       "      <th>min_prob</th>\n",
       "      <th>max_prob</th>\n",
       "      <th>events</th>\n",
       "      <th>nonevents</th>\n",
       "      <th>total</th>\n",
       "      <th>eventrate</th>\n",
       "      <th>event_rate</th>\n",
       "      <th>nonevent_rate</th>\n",
       "      <th>cum_eventrate</th>\n",
       "      <th>cum_noneventrate</th>\n",
       "      <th>KS</th>\n",
       "    </tr>\n",
       "    <tr>\n",
       "      <th>Decile</th>\n",
       "      <th></th>\n",
       "      <th></th>\n",
       "      <th></th>\n",
       "      <th></th>\n",
       "      <th></th>\n",
       "      <th></th>\n",
       "      <th></th>\n",
       "      <th></th>\n",
       "      <th></th>\n",
       "      <th></th>\n",
       "      <th></th>\n",
       "    </tr>\n",
       "  </thead>\n",
       "  <tbody>\n",
       "    <tr>\n",
       "      <th>1</th>\n",
       "      <td>0.680263</td>\n",
       "      <td>0.933116</td>\n",
       "      <td>1380</td>\n",
       "      <td>315</td>\n",
       "      <td>1695</td>\n",
       "      <td>0.814159</td>\n",
       "      <td>26.10%</td>\n",
       "      <td>2.67%</td>\n",
       "      <td>26.10%</td>\n",
       "      <td>2.67%</td>\n",
       "      <td>23.4</td>\n",
       "    </tr>\n",
       "    <tr>\n",
       "      <th>2</th>\n",
       "      <td>0.606068</td>\n",
       "      <td>0.679982</td>\n",
       "      <td>1132</td>\n",
       "      <td>588</td>\n",
       "      <td>1720</td>\n",
       "      <td>0.658140</td>\n",
       "      <td>21.41%</td>\n",
       "      <td>4.99%</td>\n",
       "      <td>47.50%</td>\n",
       "      <td>7.66%</td>\n",
       "      <td>39.8</td>\n",
       "    </tr>\n",
       "    <tr>\n",
       "      <th>3</th>\n",
       "      <td>0.492019</td>\n",
       "      <td>0.605952</td>\n",
       "      <td>909</td>\n",
       "      <td>801</td>\n",
       "      <td>1710</td>\n",
       "      <td>0.531579</td>\n",
       "      <td>17.19%</td>\n",
       "      <td>6.79%</td>\n",
       "      <td>64.69%</td>\n",
       "      <td>14.45%</td>\n",
       "      <td>50.2</td>\n",
       "    </tr>\n",
       "    <tr>\n",
       "      <th>4</th>\n",
       "      <td>0.325948</td>\n",
       "      <td>0.491943</td>\n",
       "      <td>660</td>\n",
       "      <td>1043</td>\n",
       "      <td>1703</td>\n",
       "      <td>0.387551</td>\n",
       "      <td>12.48%</td>\n",
       "      <td>8.84%</td>\n",
       "      <td>77.17%</td>\n",
       "      <td>23.29%</td>\n",
       "      <td>53.9</td>\n",
       "    </tr>\n",
       "    <tr>\n",
       "      <th>5</th>\n",
       "      <td>0.225464</td>\n",
       "      <td>0.325637</td>\n",
       "      <td>522</td>\n",
       "      <td>1191</td>\n",
       "      <td>1713</td>\n",
       "      <td>0.304729</td>\n",
       "      <td>9.87%</td>\n",
       "      <td>10.10%</td>\n",
       "      <td>87.05%</td>\n",
       "      <td>33.39%</td>\n",
       "      <td>53.7</td>\n",
       "    </tr>\n",
       "    <tr>\n",
       "      <th>6</th>\n",
       "      <td>0.158576</td>\n",
       "      <td>0.225438</td>\n",
       "      <td>316</td>\n",
       "      <td>1393</td>\n",
       "      <td>1709</td>\n",
       "      <td>0.184903</td>\n",
       "      <td>5.98%</td>\n",
       "      <td>11.81%</td>\n",
       "      <td>93.02%</td>\n",
       "      <td>45.20%</td>\n",
       "      <td>47.8</td>\n",
       "    </tr>\n",
       "    <tr>\n",
       "      <th>7</th>\n",
       "      <td>0.096585</td>\n",
       "      <td>0.158527</td>\n",
       "      <td>181</td>\n",
       "      <td>1527</td>\n",
       "      <td>1708</td>\n",
       "      <td>0.105972</td>\n",
       "      <td>3.42%</td>\n",
       "      <td>12.95%</td>\n",
       "      <td>96.44%</td>\n",
       "      <td>58.14%</td>\n",
       "      <td>38.3</td>\n",
       "    </tr>\n",
       "    <tr>\n",
       "      <th>8</th>\n",
       "      <td>0.050022</td>\n",
       "      <td>0.096504</td>\n",
       "      <td>111</td>\n",
       "      <td>1597</td>\n",
       "      <td>1708</td>\n",
       "      <td>0.064988</td>\n",
       "      <td>2.10%</td>\n",
       "      <td>13.54%</td>\n",
       "      <td>98.54%</td>\n",
       "      <td>71.68%</td>\n",
       "      <td>26.9</td>\n",
       "    </tr>\n",
       "    <tr>\n",
       "      <th>9</th>\n",
       "      <td>0.017068</td>\n",
       "      <td>0.050011</td>\n",
       "      <td>62</td>\n",
       "      <td>1646</td>\n",
       "      <td>1708</td>\n",
       "      <td>0.036300</td>\n",
       "      <td>1.17%</td>\n",
       "      <td>13.96%</td>\n",
       "      <td>99.72%</td>\n",
       "      <td>85.64%</td>\n",
       "      <td>14.1</td>\n",
       "    </tr>\n",
       "    <tr>\n",
       "      <th>10</th>\n",
       "      <td>0.000351</td>\n",
       "      <td>0.016972</td>\n",
       "      <td>15</td>\n",
       "      <td>1694</td>\n",
       "      <td>1709</td>\n",
       "      <td>0.008777</td>\n",
       "      <td>0.28%</td>\n",
       "      <td>14.36%</td>\n",
       "      <td>100.00%</td>\n",
       "      <td>100.00%</td>\n",
       "      <td>0.0</td>\n",
       "    </tr>\n",
       "  </tbody>\n",
       "</table>\n",
       "</div>"
      ],
      "text/plain": [
       "        min_prob  max_prob  events  nonevents  total  eventrate event_rate  \\\n",
       "Decile                                                                       \n",
       "1       0.680263  0.933116    1380        315   1695   0.814159     26.10%   \n",
       "2       0.606068  0.679982    1132        588   1720   0.658140     21.41%   \n",
       "3       0.492019  0.605952     909        801   1710   0.531579     17.19%   \n",
       "4       0.325948  0.491943     660       1043   1703   0.387551     12.48%   \n",
       "5       0.225464  0.325637     522       1191   1713   0.304729      9.87%   \n",
       "6       0.158576  0.225438     316       1393   1709   0.184903      5.98%   \n",
       "7       0.096585  0.158527     181       1527   1708   0.105972      3.42%   \n",
       "8       0.050022  0.096504     111       1597   1708   0.064988      2.10%   \n",
       "9       0.017068  0.050011      62       1646   1708   0.036300      1.17%   \n",
       "10      0.000351  0.016972      15       1694   1709   0.008777      0.28%   \n",
       "\n",
       "       nonevent_rate cum_eventrate cum_noneventrate    KS  \n",
       "Decile                                                     \n",
       "1              2.67%        26.10%            2.67%  23.4  \n",
       "2              4.99%        47.50%            7.66%  39.8  \n",
       "3              6.79%        64.69%           14.45%  50.2  \n",
       "4              8.84%        77.17%           23.29%  53.9  \n",
       "5             10.10%        87.05%           33.39%  53.7  \n",
       "6             11.81%        93.02%           45.20%  47.8  \n",
       "7             12.95%        96.44%           58.14%  38.3  \n",
       "8             13.54%        98.54%           71.68%  26.9  \n",
       "9             13.96%        99.72%           85.64%  14.1  \n",
       "10            14.36%       100.00%          100.00%   0.0  "
      ]
     },
     "execution_count": 61,
     "metadata": {},
     "output_type": "execute_result"
    }
   ],
   "source": [
    "test_result_df = pd.DataFrame({\"target\" : y_test , \"proba\": y_test_probs })\n",
    "ks(test_result_df,\"target\",\"proba\")"
   ]
  },
  {
   "cell_type": "markdown",
   "id": "sunset-negative",
   "metadata": {
    "execution": {
     "iopub.execute_input": "2021-12-21T13:36:12.484479Z",
     "iopub.status.busy": "2021-12-21T13:36:12.484479Z",
     "iopub.status.idle": "2021-12-21T13:36:12.488478Z",
     "shell.execute_reply": "2021-12-21T13:36:12.488478Z",
     "shell.execute_reply.started": "2021-12-21T13:36:12.484479Z"
    },
    "tags": []
   },
   "source": [
    "The final classifier trained is a pretty good one. The test AUC is almost 0.85. However, from a usage perspective, we need to choose a threshold for the predicted probability of churn above which we will take necessary actions to avoid churn. This obviously comes down to the trade off between the cost of said action and our need to cut down on churn. \n",
    "The above table will help us navigate this tradeoff. For example, if we keep the probability threshold at around 0.5(row 3), we will have to action on 30% of the population on average. However, this 30% population would account for 65% of all churners on average. "
   ]
  },
  {
   "cell_type": "markdown",
   "id": "unusual-local",
   "metadata": {},
   "source": [
    "### Feature importances"
   ]
  },
  {
   "cell_type": "code",
   "execution_count": 68,
   "id": "limiting-cleveland",
   "metadata": {
    "execution": {
     "iopub.execute_input": "2021-12-21T14:00:57.334450Z",
     "iopub.status.busy": "2021-12-21T14:00:57.334450Z",
     "iopub.status.idle": "2021-12-21T14:00:57.727495Z",
     "shell.execute_reply": "2021-12-21T14:00:57.727495Z",
     "shell.execute_reply.started": "2021-12-21T14:00:57.334450Z"
    },
    "tags": []
   },
   "outputs": [
    {
     "data": {
      "image/png": "[encoded data removed]",
      "text/plain": [
       "<Figure size 640x480 with 1 Axes>"
      ]
     },
     "metadata": {},
     "output_type": "display_data"
    },
    {
     "data": {
      "text/plain": [
       "<ggplot: (-9223371944075838280)>"
      ]
     },
     "execution_count": 68,
     "metadata": {},
     "output_type": "execute_result"
    }
   ],
   "source": [
    "feature_importance_df = pd.DataFrame({\"features\":features , \"importance\": classifier.feature_importances_})\n",
    "ggplot(feature_importance_df , aes(x = \"features\" , y = \"importance\")) + geom_col() +theme(axis_text_x= element_text(angle = 90))\n"
   ]
  },
  {
   "cell_type": "markdown",
   "id": "emotional-navigation",
   "metadata": {},
   "source": [
    "Within the model , the most important 2 features are those relating to recent activity and recent activity nomalised by overall level of activity which makes a lot of sense. "
   ]
  },
  {
   "cell_type": "code",
   "execution_count": 109,
   "id": "martial-airline",
   "metadata": {
    "execution": {
     "iopub.execute_input": "2021-12-21T16:46:54.316523Z",
     "iopub.status.busy": "2021-12-21T16:46:54.315522Z",
     "iopub.status.idle": "2021-12-21T16:48:28.081904Z",
     "shell.execute_reply": "2021-12-21T16:48:28.080904Z",
     "shell.execute_reply.started": "2021-12-21T16:46:54.316523Z"
    },
    "tags": []
   },
   "outputs": [],
   "source": [
    "# predicting which merchants, currently active are likely to churn in the future. \n",
    "as_of_date = tranformed_df[\"date\"].max()\n",
    "X_oot = (tranformed_df\n",
    "     .assign(offset_date = lambda x : (x.date - as_of_date).dt.days)\n",
    "     .loc[lambda x : x.offset_date > -performance_window]\n",
    "     .groupby(\"merchant\")\n",
    "     .apply(create_features_target)\n",
    "     ).reset_index().drop([\"level_1\",\"churn_indicator\"],axis = 1)\n",
    "predicted_churn_prob_df = pd.DataFrame({\"merchant\" : X_oot[\"merchant\"] , \"predicted_churn_prob\":classifier.predict_proba(X_oot[features])[:, 1]})\n",
    "predicted_churn_prob_df.to_csv(os.path.join(src.dir_path , \"data/processed/active_merchant_churn_probs.csv\"))"
   ]
  },
  {
   "cell_type": "markdown",
   "id": "native-african",
   "metadata": {},
   "source": [
    "## Scope for improvement - \n",
    "1. Explore more hyperparamenter combinations and try to run other models possible \n",
    "2. Feature engineering by creating new features as well as tweaking the windows for time window features. Tweaking the training window to make it shorter. Clearly most of the value lies in recent activity so we might be able to make the training window shorter\n",
    "\n",
    "## Steps Further - \n",
    "1. We need to choose an appropriate threshold for the probability outpit from the model, above which we will comission an action to curtail possible churn.\n",
    "2. We need to find similar data to be able to validate this model."
   ]
  }
 ],
 "metadata": {
  "kernelspec": {
   "display_name": "Python 3",
   "language": "python",
   "name": "python3"
  },
  "language_info": {
   "codemirror_mode": {
    "name": "ipython",
    "version": 3
   },
   "file_extension": ".py",
   "mimetype": "text/x-python",
   "name": "python",
   "nbconvert_exporter": "python",
   "pygments_lexer": "ipython3",
   "version": "3.7.4"
  }
 },
 "nbformat": 4,
 "nbformat_minor": 5
}
